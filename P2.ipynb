{
 "cells": [
  {
   "attachments": {},
   "cell_type": "markdown",
   "metadata": {},
   "source": [
    "## Projeto 2 - Ciência dos dados"
   ]
  },
  {
   "attachments": {},
   "cell_type": "markdown",
   "metadata": {},
   "source": [
    "## Integrantes: \n",
    "\n",
    "- Luca Guazzelli \n",
    "\n",
    "- Pedro Henrique Vidal \n",
    "\n",
    "- Rafael Agnelo"
   ]
  },
  {
   "attachments": {},
   "cell_type": "markdown",
   "metadata": {},
   "source": [
    "## Objetivo: \n",
    "\n",
    "- A base de dados é uma base de microdados do ENEM em relação a dados do ENEM por escolas (públicas e privadas) no Brasil. Em relação à isso, faz-se a seguinte pergunta temática:\n",
    "\n",
    "- A partir de uma série de features (Localidade, Taxa de abandono, Porte da escola , Média das notas em matemática, Tipo da dependência administrativa, Número de participantes do enem que cumprem os requisitos de participação e INSE), qual é a nota média de uma escola que performa mal, isto é, de forma insatisfatória em Matemática no ENEM (Média inferior à 500) no ano de 2015?\n",
    "\n"
   ]
  },
  {
   "attachments": {},
   "cell_type": "markdown",
   "metadata": {},
   "source": [
    "## Importando Bibliotecas"
   ]
  },
  {
   "cell_type": "code",
   "execution_count": 506,
   "metadata": {},
   "outputs": [],
   "source": [
    "%matplotlib inline\n",
    "import pandas as pd\n",
    "import numpy as np\n",
    "from scipy import stats\n",
    "import matplotlib.pyplot as plt\n"
   ]
  },
  {
   "attachments": {},
   "cell_type": "markdown",
   "metadata": {},
   "source": [
    "## Carregando base de dados\n",
    "Por meio da base de dados do INEP, é possível acessar as planilhas de microdados relativas a informações de ENEM por escolas - com mais de 10 participantes - no Brasil."
   ]
  },
  {
   "cell_type": "code",
   "execution_count": 507,
   "metadata": {},
   "outputs": [
    {
     "name": "stderr",
     "output_type": "stream",
     "text": [
      "C:\\Users\\Pedro Vidal\\AppData\\Local\\Temp\\ipykernel_70024\\2310550405.py:1: DtypeWarning: Columns (20) have mixed types. Specify dtype option on import or set low_memory=False.\n",
      "  dados = pd.read_csv('microdados_enem_por_escola\\DADOS\\MICRODADOS_ENEM_ESCOLA.csv',encoding='latin1', sep=\";\")\n"
     ]
    }
   ],
   "source": [
    "dados = pd.read_csv('microdados_enem_por_escola\\DADOS\\MICRODADOS_ENEM_ESCOLA.csv',encoding='latin1', sep=\";\")"
   ]
  },
  {
   "cell_type": "code",
   "execution_count": 508,
   "metadata": {},
   "outputs": [
    {
     "data": {
      "text/html": [
       "<div>\n",
       "<style scoped>\n",
       "    .dataframe tbody tr th:only-of-type {\n",
       "        vertical-align: middle;\n",
       "    }\n",
       "\n",
       "    .dataframe tbody tr th {\n",
       "        vertical-align: top;\n",
       "    }\n",
       "\n",
       "    .dataframe thead th {\n",
       "        text-align: right;\n",
       "    }\n",
       "</style>\n",
       "<table border=\"1\" class=\"dataframe\">\n",
       "  <thead>\n",
       "    <tr style=\"text-align: right;\">\n",
       "      <th></th>\n",
       "      <th>NU_ANO</th>\n",
       "      <th>CO_UF_ESCOLA</th>\n",
       "      <th>SG_UF_ESCOLA</th>\n",
       "      <th>CO_MUNICIPIO_ESCOLA</th>\n",
       "      <th>NO_MUNICIPIO_ESCOLA</th>\n",
       "      <th>CO_ESCOLA_EDUCACENSO</th>\n",
       "      <th>NO_ESCOLA_EDUCACENSO</th>\n",
       "      <th>TP_DEPENDENCIA_ADM_ESCOLA</th>\n",
       "      <th>TP_LOCALIZACAO_ESCOLA</th>\n",
       "      <th>NU_MATRICULAS</th>\n",
       "      <th>...</th>\n",
       "      <th>NU_MEDIA_RED</th>\n",
       "      <th>NU_MEDIA_OBJ</th>\n",
       "      <th>NU_MEDIA_TOT</th>\n",
       "      <th>INSE</th>\n",
       "      <th>PC_FORMACAO_DOCENTE</th>\n",
       "      <th>NU_TAXA_PERMANENCIA</th>\n",
       "      <th>NU_TAXA_APROVACAO</th>\n",
       "      <th>NU_TAXA_REPROVACAO</th>\n",
       "      <th>NU_TAXA_ABANDONO</th>\n",
       "      <th>PORTE_ESCOLA</th>\n",
       "    </tr>\n",
       "  </thead>\n",
       "  <tbody>\n",
       "    <tr>\n",
       "      <th>0</th>\n",
       "      <td>2007</td>\n",
       "      <td>11</td>\n",
       "      <td>RO</td>\n",
       "      <td>1100205</td>\n",
       "      <td>Porto Velho</td>\n",
       "      <td>11000058</td>\n",
       "      <td>CENTRO DE ENSINO CLASSE A</td>\n",
       "      <td>4</td>\n",
       "      <td>1</td>\n",
       "      <td>144</td>\n",
       "      <td>...</td>\n",
       "      <td>NaN</td>\n",
       "      <td>NaN</td>\n",
       "      <td>69.03</td>\n",
       "      <td>NaN</td>\n",
       "      <td>NaN</td>\n",
       "      <td>NaN</td>\n",
       "      <td>91.9</td>\n",
       "      <td>8.1</td>\n",
       "      <td>0.0</td>\n",
       "      <td>Maior que 90 alunos</td>\n",
       "    </tr>\n",
       "    <tr>\n",
       "      <th>1</th>\n",
       "      <td>2006</td>\n",
       "      <td>11</td>\n",
       "      <td>RO</td>\n",
       "      <td>1100205</td>\n",
       "      <td>Porto Velho</td>\n",
       "      <td>11000058</td>\n",
       "      <td>CENTRO DE ENSINO CLASSE A</td>\n",
       "      <td>4</td>\n",
       "      <td>1</td>\n",
       "      <td>184</td>\n",
       "      <td>...</td>\n",
       "      <td>NaN</td>\n",
       "      <td>NaN</td>\n",
       "      <td>57.82</td>\n",
       "      <td>NaN</td>\n",
       "      <td>NaN</td>\n",
       "      <td>NaN</td>\n",
       "      <td>NaN</td>\n",
       "      <td>NaN</td>\n",
       "      <td>NaN</td>\n",
       "      <td>Maior que 90 alunos</td>\n",
       "    </tr>\n",
       "    <tr>\n",
       "      <th>2</th>\n",
       "      <td>2005</td>\n",
       "      <td>11</td>\n",
       "      <td>RO</td>\n",
       "      <td>1100205</td>\n",
       "      <td>Porto Velho</td>\n",
       "      <td>11000058</td>\n",
       "      <td>CENTRO DE ENSINO CLASSE A</td>\n",
       "      <td>4</td>\n",
       "      <td>1</td>\n",
       "      <td>220</td>\n",
       "      <td>...</td>\n",
       "      <td>NaN</td>\n",
       "      <td>NaN</td>\n",
       "      <td>64.83</td>\n",
       "      <td>NaN</td>\n",
       "      <td>NaN</td>\n",
       "      <td>NaN</td>\n",
       "      <td>86.5</td>\n",
       "      <td>12.4</td>\n",
       "      <td>1.1</td>\n",
       "      <td>Maior que 90 alunos</td>\n",
       "    </tr>\n",
       "    <tr>\n",
       "      <th>3</th>\n",
       "      <td>2008</td>\n",
       "      <td>11</td>\n",
       "      <td>RO</td>\n",
       "      <td>1100205</td>\n",
       "      <td>Porto Velho</td>\n",
       "      <td>11000058</td>\n",
       "      <td>CENTRO DE ENSINO CLASSE A</td>\n",
       "      <td>4</td>\n",
       "      <td>1</td>\n",
       "      <td>186</td>\n",
       "      <td>...</td>\n",
       "      <td>72.16</td>\n",
       "      <td>60.02</td>\n",
       "      <td>NaN</td>\n",
       "      <td>NaN</td>\n",
       "      <td>NaN</td>\n",
       "      <td>NaN</td>\n",
       "      <td>90.3</td>\n",
       "      <td>9.7</td>\n",
       "      <td>0.0</td>\n",
       "      <td>Maior que 90 alunos</td>\n",
       "    </tr>\n",
       "    <tr>\n",
       "      <th>4</th>\n",
       "      <td>2007</td>\n",
       "      <td>11</td>\n",
       "      <td>RO</td>\n",
       "      <td>1100205</td>\n",
       "      <td>Porto Velho</td>\n",
       "      <td>11000171</td>\n",
       "      <td>CENTRO EDUCACIONAL MOJUCA</td>\n",
       "      <td>4</td>\n",
       "      <td>1</td>\n",
       "      <td>19</td>\n",
       "      <td>...</td>\n",
       "      <td>NaN</td>\n",
       "      <td>NaN</td>\n",
       "      <td>58.84</td>\n",
       "      <td>NaN</td>\n",
       "      <td>NaN</td>\n",
       "      <td>NaN</td>\n",
       "      <td>74.2</td>\n",
       "      <td>21.0</td>\n",
       "      <td>4.8</td>\n",
       "      <td>De 1 a 30 alunos</td>\n",
       "    </tr>\n",
       "  </tbody>\n",
       "</table>\n",
       "<p>5 rows × 27 columns</p>\n",
       "</div>"
      ],
      "text/plain": [
       "   NU_ANO  CO_UF_ESCOLA SG_UF_ESCOLA  CO_MUNICIPIO_ESCOLA NO_MUNICIPIO_ESCOLA  \\\n",
       "0    2007            11           RO              1100205         Porto Velho   \n",
       "1    2006            11           RO              1100205         Porto Velho   \n",
       "2    2005            11           RO              1100205         Porto Velho   \n",
       "3    2008            11           RO              1100205         Porto Velho   \n",
       "4    2007            11           RO              1100205         Porto Velho   \n",
       "\n",
       "   CO_ESCOLA_EDUCACENSO       NO_ESCOLA_EDUCACENSO  TP_DEPENDENCIA_ADM_ESCOLA  \\\n",
       "0              11000058  CENTRO DE ENSINO CLASSE A                          4   \n",
       "1              11000058  CENTRO DE ENSINO CLASSE A                          4   \n",
       "2              11000058  CENTRO DE ENSINO CLASSE A                          4   \n",
       "3              11000058  CENTRO DE ENSINO CLASSE A                          4   \n",
       "4              11000171  CENTRO EDUCACIONAL MOJUCA                          4   \n",
       "\n",
       "   TP_LOCALIZACAO_ESCOLA  NU_MATRICULAS  ...  NU_MEDIA_RED  NU_MEDIA_OBJ  \\\n",
       "0                      1            144  ...           NaN           NaN   \n",
       "1                      1            184  ...           NaN           NaN   \n",
       "2                      1            220  ...           NaN           NaN   \n",
       "3                      1            186  ...         72.16         60.02   \n",
       "4                      1             19  ...           NaN           NaN   \n",
       "\n",
       "   NU_MEDIA_TOT  INSE  PC_FORMACAO_DOCENTE  NU_TAXA_PERMANENCIA  \\\n",
       "0         69.03   NaN                  NaN                  NaN   \n",
       "1         57.82   NaN                  NaN                  NaN   \n",
       "2         64.83   NaN                  NaN                  NaN   \n",
       "3           NaN   NaN                  NaN                  NaN   \n",
       "4         58.84   NaN                  NaN                  NaN   \n",
       "\n",
       "   NU_TAXA_APROVACAO  NU_TAXA_REPROVACAO  NU_TAXA_ABANDONO  \\\n",
       "0               91.9                 8.1               0.0   \n",
       "1                NaN                 NaN               NaN   \n",
       "2               86.5                12.4               1.1   \n",
       "3               90.3                 9.7               0.0   \n",
       "4               74.2                21.0               4.8   \n",
       "\n",
       "          PORTE_ESCOLA  \n",
       "0  Maior que 90 alunos  \n",
       "1  Maior que 90 alunos  \n",
       "2  Maior que 90 alunos  \n",
       "3  Maior que 90 alunos  \n",
       "4     De 1 a 30 alunos  \n",
       "\n",
       "[5 rows x 27 columns]"
      ]
     },
     "execution_count": 508,
     "metadata": {},
     "output_type": "execute_result"
    }
   ],
   "source": [
    "dados.head(5)"
   ]
  },
  {
   "attachments": {},
   "cell_type": "markdown",
   "metadata": {},
   "source": [
    "## Análise exploratória e mineração de dados\n",
    "\n",
    "De prima, cabe analisar descritivamente os features a fim de entender o comportamento da target nota média. Para tanto, urge:\n",
    "- 1) Filtrar as colunas das bases de dados que são potencialmente necessárias para traçar um perfil adequado e eficaz.\n",
    "- 2) Minerar os dados e possibilitar uma análise descritiva detalhada das variáveis, de modo a associar diferentes features graficamente e utilizar ferramentas estatísticas a fim de permitir a análise dos dados.\n"
   ]
  },
  {
   "cell_type": "code",
   "execution_count": 509,
   "metadata": {},
   "outputs": [
    {
     "data": {
      "text/html": [
       "<div>\n",
       "<style scoped>\n",
       "    .dataframe tbody tr th:only-of-type {\n",
       "        vertical-align: middle;\n",
       "    }\n",
       "\n",
       "    .dataframe tbody tr th {\n",
       "        vertical-align: top;\n",
       "    }\n",
       "\n",
       "    .dataframe thead th {\n",
       "        text-align: right;\n",
       "    }\n",
       "</style>\n",
       "<table border=\"1\" class=\"dataframe\">\n",
       "  <thead>\n",
       "    <tr style=\"text-align: right;\">\n",
       "      <th></th>\n",
       "      <th>TP_DEPENDENCIA_ADM_ESCOLA</th>\n",
       "      <th>TP_LOCALIZACAO_ESCOLA</th>\n",
       "      <th>NU_TAXA_ABANDONO</th>\n",
       "      <th>PORTE_ESCOLA</th>\n",
       "      <th>NU_MEDIA_MT</th>\n",
       "      <th>INSE</th>\n",
       "    </tr>\n",
       "  </thead>\n",
       "  <tbody>\n",
       "    <tr>\n",
       "      <th>67619</th>\n",
       "      <td>4</td>\n",
       "      <td>1</td>\n",
       "      <td>0.0</td>\n",
       "      <td>Maior que 90 alunos</td>\n",
       "      <td>627.66</td>\n",
       "      <td>Grupo 6</td>\n",
       "    </tr>\n",
       "    <tr>\n",
       "      <th>67628</th>\n",
       "      <td>4</td>\n",
       "      <td>1</td>\n",
       "      <td>0.0</td>\n",
       "      <td>De 1 a 30 alunos</td>\n",
       "      <td>459.72</td>\n",
       "      <td>Grupo 4</td>\n",
       "    </tr>\n",
       "    <tr>\n",
       "      <th>67640</th>\n",
       "      <td>4</td>\n",
       "      <td>1</td>\n",
       "      <td>0.0</td>\n",
       "      <td>De 31 a 60 alunos</td>\n",
       "      <td>507.22</td>\n",
       "      <td>Grupo 5</td>\n",
       "    </tr>\n",
       "    <tr>\n",
       "      <th>67642</th>\n",
       "      <td>4</td>\n",
       "      <td>1</td>\n",
       "      <td>0.8</td>\n",
       "      <td>De 31 a 60 alunos</td>\n",
       "      <td>529.87</td>\n",
       "      <td>Grupo 5</td>\n",
       "    </tr>\n",
       "    <tr>\n",
       "      <th>67648</th>\n",
       "      <td>4</td>\n",
       "      <td>1</td>\n",
       "      <td>2.4</td>\n",
       "      <td>De 1 a 30 alunos</td>\n",
       "      <td>528.93</td>\n",
       "      <td>Grupo 5</td>\n",
       "    </tr>\n",
       "    <tr>\n",
       "      <th>...</th>\n",
       "      <td>...</td>\n",
       "      <td>...</td>\n",
       "      <td>...</td>\n",
       "      <td>...</td>\n",
       "      <td>...</td>\n",
       "      <td>...</td>\n",
       "    </tr>\n",
       "    <tr>\n",
       "      <th>172288</th>\n",
       "      <td>4</td>\n",
       "      <td>1</td>\n",
       "      <td>0.0</td>\n",
       "      <td>De 61 a 90 alunos</td>\n",
       "      <td>786.28</td>\n",
       "      <td>Grupo 6</td>\n",
       "    </tr>\n",
       "    <tr>\n",
       "      <th>172292</th>\n",
       "      <td>2</td>\n",
       "      <td>1</td>\n",
       "      <td>0.0</td>\n",
       "      <td>De 61 a 90 alunos</td>\n",
       "      <td>452.82</td>\n",
       "      <td>Grupo 3</td>\n",
       "    </tr>\n",
       "    <tr>\n",
       "      <th>172296</th>\n",
       "      <td>2</td>\n",
       "      <td>1</td>\n",
       "      <td>12.0</td>\n",
       "      <td>Maior que 90 alunos</td>\n",
       "      <td>456.23</td>\n",
       "      <td>Grupo 3</td>\n",
       "    </tr>\n",
       "    <tr>\n",
       "      <th>172302</th>\n",
       "      <td>2</td>\n",
       "      <td>1</td>\n",
       "      <td>11.0</td>\n",
       "      <td>Maior que 90 alunos</td>\n",
       "      <td>428.90</td>\n",
       "      <td>Grupo 3</td>\n",
       "    </tr>\n",
       "    <tr>\n",
       "      <th>172304</th>\n",
       "      <td>4</td>\n",
       "      <td>1</td>\n",
       "      <td>0.0</td>\n",
       "      <td>De 1 a 30 alunos</td>\n",
       "      <td>464.84</td>\n",
       "      <td>Grupo 5</td>\n",
       "    </tr>\n",
       "  </tbody>\n",
       "</table>\n",
       "<p>15598 rows × 6 columns</p>\n",
       "</div>"
      ],
      "text/plain": [
       "        TP_DEPENDENCIA_ADM_ESCOLA  TP_LOCALIZACAO_ESCOLA  NU_TAXA_ABANDONO  \\\n",
       "67619                           4                      1               0.0   \n",
       "67628                           4                      1               0.0   \n",
       "67640                           4                      1               0.0   \n",
       "67642                           4                      1               0.8   \n",
       "67648                           4                      1               2.4   \n",
       "...                           ...                    ...               ...   \n",
       "172288                          4                      1               0.0   \n",
       "172292                          2                      1               0.0   \n",
       "172296                          2                      1              12.0   \n",
       "172302                          2                      1              11.0   \n",
       "172304                          4                      1               0.0   \n",
       "\n",
       "               PORTE_ESCOLA  NU_MEDIA_MT     INSE  \n",
       "67619   Maior que 90 alunos       627.66  Grupo 6  \n",
       "67628      De 1 a 30 alunos       459.72  Grupo 4  \n",
       "67640     De 31 a 60 alunos       507.22  Grupo 5  \n",
       "67642     De 31 a 60 alunos       529.87  Grupo 5  \n",
       "67648      De 1 a 30 alunos       528.93  Grupo 5  \n",
       "...                     ...          ...      ...  \n",
       "172288    De 61 a 90 alunos       786.28  Grupo 6  \n",
       "172292    De 61 a 90 alunos       452.82  Grupo 3  \n",
       "172296  Maior que 90 alunos       456.23  Grupo 3  \n",
       "172302  Maior que 90 alunos       428.90  Grupo 3  \n",
       "172304     De 1 a 30 alunos       464.84  Grupo 5  \n",
       "\n",
       "[15598 rows x 6 columns]"
      ]
     },
     "execution_count": 509,
     "metadata": {},
     "output_type": "execute_result"
    }
   ],
   "source": [
    "dados_limpando = dados.loc[dados[\"NU_ANO\"] == 2015,(\"TP_DEPENDENCIA_ADM_ESCOLA\", \"TP_LOCALIZACAO_ESCOLA\", \"NU_TAXA_ABANDONO\", \"PORTE_ESCOLA\", \"NU_MEDIA_MT\", \"INSE\")]\n",
    "\n",
    "dados_limpando"
   ]
  },
  {
   "attachments": {},
   "cell_type": "markdown",
   "metadata": {},
   "source": [
    "1) \"TP_DEPENDENCIA_ADM_ESCOLA\" (Tipo da dependência administrativa da escola):\n",
    "    Tipo: Feature qualitativa.\n",
    "    Descrição: Indica o tipo de dependência administrativa da escola, classificando-a como Federal, Estadual, Municipal ou Privada.\n",
    "\n",
    "2) \"TP_LOCALIZACAO_ESCOLA\" (Localização da escola):\n",
    "    Tipo: Feature qualitativa.\n",
    "    Descrição: Indica a localização da escola, sendo classificada como Urbana ou Rural.\n",
    "\n",
    "3) NU_TAXA_ABANDONO\" (Taxa de abandono):\n",
    "    Tipo: Feature qualitativa.\n",
    "    Descrição: Representa a taxa de abandono escolar, indicando a proporção de alunos que abandonaram a escola.\n",
    "\n",
    "4) \"PORTE_ESCOLA\" (Porte da escola):\n",
    "    Tipo: Feature qualitativa.\n",
    "    Descrição: Indica o porte da escola, categorizando-a como Pequena, Média, Grande ou Não se aplica.\n",
    "\n",
    "5)  \"INSE\" (Índice de Nível Socioeconômico):\n",
    "    Tipo: Feature qualitativa.\n",
    "    Descrição: O INSE é um índice que mede o nível socioeconômico das famílias dos alunos da escola. É categorizado em grupos, sendo numerados de 1 a 6, representando diferentes níveis socioeconômicos, onde o Grupo 1 representa o nível mais baixo e o Grupo 6 o mais alto.\n",
    "\n",
    "6) \"NU_MEDIA_MT\" (Média das notas em Matemática no ENEM):\n",
    "    Tipo: Target qualitativa.\n",
    "    Descrição: Representa a média das notas obtidas pelos alunos da escola na disciplina de Matemática no Exame Nacional do Ensino Médio (ENEM)."
   ]
  },
  {
   "attachments": {},
   "cell_type": "markdown",
   "metadata": {},
   "source": [
    "## Analise Descritiva da Target\n",
    "\n",
    "Agora, pode-se analisar a target (Média de Matemática) perante todas as features e entender acerca das influências de cada uma.\n"
   ]
  },
  {
   "attachments": {},
   "cell_type": "markdown",
   "metadata": {},
   "source": [
    "O Brasil é um país que desde muito tempo tem desafasagens com relação ao sistma educacional. Durante as décadas de 1990 a 200, o desempenho médio dos alunos em matemática no ENEM era geralmente baixo. O país enfrentava desafios educacionais significativos, como baixo investimento na educação, problemas estruturais nas escolas e falta de formação adequada de professores. Esses fatores contribuíram para resultados insatisfatórios nas médias de matemática.\n",
    "\n",
    "A partir dos anos 2000, houve um aumento de atenção e investimentos na educação. Políticas e programas foram implementados para melhorar a qualidade do ensino, formação de professores e infraestrutura escolar. Essas ações começaram a ter impacto positivo nos resultados das médias de matemática no ENEM. O desempenho dos alunos começou a melhorar gradualmente, por mais mais baixas que as notas ainda fossem.\n",
    "\n",
    "Nos últimos anos, observamos uma tendência geral de melhoria nos resultados de matemática no ENEM. Esforços contínuos foram feitos para aprimorar a educação, com ênfase na capacitação dos professores, revisão de currículos e investimentos em tecnologia educacional. Isso contribuiu para um aumento progressivo nas médias de matemática em muitas escolas do Brasil.\n",
    "\n",
    "É importante destacar que as médias de matemática no ENEM variam entre diferentes regiões do país e entre escolas públicas e privadas. Desigualdades socioeconômicas, acesso desigual à educação e outros fatores socioeconômicos podem influenciar esses resultados.\n",
    "\n",
    "Por isso, de acordo com a base de dados e suas respectivas informações filtradas e devidamente priorizadas, entende-se que as mesmas são significativas para a descrição condizente à média de matemática no ENEM das escolas."
   ]
  },
  {
   "attachments": {},
   "cell_type": "markdown",
   "metadata": {},
   "source": [
    "## Importando mais uma biblioteca"
   ]
  },
  {
   "attachments": {},
   "cell_type": "markdown",
   "metadata": {},
   "source": [
    "Cabe, assim, analisar graficamente cada feature em relação à nossa target, que é a média de matemática. Primeiramente, importa-se a biblioteca seaborn:"
   ]
  },
  {
   "cell_type": "code",
   "execution_count": 510,
   "metadata": {},
   "outputs": [],
   "source": [
    "import seaborn as sns"
   ]
  },
  {
   "attachments": {},
   "cell_type": "markdown",
   "metadata": {},
   "source": [
    "O Seaborn é uma biblioteca de visualização de dados em Python que trabalha em conjunto com o Matplotlib. Ele oferece uma interface de alto nível para criar gráficos estatísticos atraentes e informativos. A importação do Seaborn é realizada com o objetivo de aproveitar suas funcionalidades adicionais em relação ao Matplotlib, especialmente no que diz respeito à criação de gráficos estatísticos mais complexos e esteticamente agradáveis.\n",
    "\n",
    "Com essa biblioteca, é possível otimizar os gráficos BoxPlot que serão criados. O boxplot, ou diagrama de caixa, é um gráfico que permite visualizar a distribuição de uma variável quantitativa em relação a uma variável categórica. Ele é composto por um retângulo que representa o intervalo interquartil (25% a 75% dos dados), uma linha que indica a mediana, além de \"bigodes\" que representam a amplitude dos dados. O boxplot é uma ferramenta útil para identificar a dispersão e possíveis outliers nos dados, além de permitir a comparação entre diferentes grupos ou categorias.\n",
    "\n",
    "Também, pensando nas variáveis quantitativas, o scatter plot, ou gráfico de dispersão, é uma representação gráfica que permite observar a relação entre duas variáveis quantitativas. Cada ponto no gráfico representa uma observação, sendo posicionado de acordo com os valores das duas variáveis. Essa visualização nos permite identificar padrões, tendências ou correlações entre as variáveis. O scatter plot é especialmente útil para investigar a relação de causa e efeito entre variáveis ou para identificar possíveis associações entre elas.\n",
    "\n",
    "Através dessas ferramentas gráficas, é possível explorar e analisar as relações entre as variáveis do conjunto de dados, auxiliando na compreensão dos padrões e tendências presentes. Combinar a visualização gráfica com medidas de resumo e/ou medidas de associação fornece uma análise mais completa e interpretação dos dados, permitindo obter insights valiosos para a tomada de decisões informada"
   ]
  },
  {
   "attachments": {},
   "cell_type": "markdown",
   "metadata": {},
   "source": [
    "A partir disso, pode-se dar início a construção dos gráficos entre variáveis qualitativas e quantitativas:\n"
   ]
  },
  {
   "attachments": {},
   "cell_type": "markdown",
   "metadata": {},
   "source": [
    "1) Gráfico de densidade das notas médias em matemática dos estudantes brasileiros no ENEM"
   ]
  },
  {
   "cell_type": "code",
   "execution_count": 511,
   "metadata": {},
   "outputs": [
    {
     "data": {
      "text/plain": [
       "Text(0, 0.5, 'Densidade')"
      ]
     },
     "execution_count": 511,
     "metadata": {},
     "output_type": "execute_result"
    },
    {
     "data": {
      "image/png": "[encoded data removed]",
      "text/plain": [
       "<Figure size 1152x864 with 1 Axes>"
      ]
     },
     "metadata": {
      "needs_background": "light"
     },
     "output_type": "display_data"
    }
   ],
   "source": [
    "plt.figure(figsize=(16, 12))\n",
    "plt.subplot(221)\n",
    "plt.hist(dados_limpando.NU_MEDIA_MT, edgecolor='black', density=True)\n",
    "plt.title(\"Histograma - Média Enem 2015 - Matemática\")\n",
    "plt.xlabel('Média Matemática ENEM')\n",
    "plt.ylabel('Densidade')\n"
   ]
  },
  {
   "attachments": {},
   "cell_type": "markdown",
   "metadata": {},
   "source": [
    "De acordo com o gráfico, há uma elevada concentração na parte da esquerda, revelando uma assimetria, justificada com base na mediana ser inferior à média da amostra."
   ]
  },
  {
   "attachments": {},
   "cell_type": "markdown",
   "metadata": {},
   "source": [
    "2) Dependência admnistrativa (feature qualitativa) X Média das notas em matemática (target quantitativa)"
   ]
  },
  {
   "attachments": {},
   "cell_type": "markdown",
   "metadata": {},
   "source": [
    "- O número 1 indica que a escola é Federal\n",
    "\n",
    "- O número 2 indica que a escola é Estadual\n",
    "\n",
    "- O número 3 indica que a escola é Municipal\n",
    "\n",
    "- O número 4 indica que a escola é Privada"
   ]
  },
  {
   "cell_type": "code",
   "execution_count": 512,
   "metadata": {},
   "outputs": [
    {
     "data": {
      "image/png": "[encoded data removed]",
      "text/plain": [
       "<Figure size 720x432 with 1 Axes>"
      ]
     },
     "metadata": {
      "needs_background": "light"
     },
     "output_type": "display_data"
    }
   ],
   "source": [
    "\n",
    "# Boxplot da Média das notas em Matemática segmentadas por Dependência Administrativa\n",
    "cat_dep = dados_limpando['TP_DEPENDENCIA_ADM_ESCOLA'].astype('category')\n",
    "plt.figure(figsize=(10, 6))\n",
    "sns.boxplot(x= cat_dep, y='NU_MEDIA_MT', data=dados_limpando)\n",
    "plt.xlabel('Dependência Administrativa')\n",
    "plt.ylabel('Média das notas em Matemática')\n",
    "plt.title('Boxplot da Média das notas em Matemática por Dependência Administrativa')\n",
    "plt.show()\n"
   ]
  },
  {
   "attachments": {},
   "cell_type": "markdown",
   "metadata": {},
   "source": [
    "Pode se observar que os índices de escolas privadas e federeais apresentam maiores médias e relações entre os quartis se comparadas a escolas municipais e estaduais."
   ]
  },
  {
   "attachments": {},
   "cell_type": "markdown",
   "metadata": {},
   "source": [
    "3) Localização da escola (feature qualitativa) X Média das notas em matemática (target quantitativa)"
   ]
  },
  {
   "attachments": {},
   "cell_type": "markdown",
   "metadata": {},
   "source": [
    "- O número 1 indica que a escola localiza-se em uma zona Urbana\n",
    "\n",
    "- O número 2 indica que a escola localiza-se em uma zona Rural"
   ]
  },
  {
   "cell_type": "code",
   "execution_count": 513,
   "metadata": {},
   "outputs": [
    {
     "data": {
      "image/png": "[encoded data removed]",
      "text/plain": [
       "<Figure size 720x432 with 1 Axes>"
      ]
     },
     "metadata": {
      "needs_background": "light"
     },
     "output_type": "display_data"
    }
   ],
   "source": [
    "# Boxplot da Média das notas em Matemática segmentadas por Localização da Escola\n",
    "plt.figure(figsize=(10, 6))\n",
    "sns.boxplot(x='TP_LOCALIZACAO_ESCOLA', y='NU_MEDIA_MT', data=dados_limpando)\n",
    "plt.xlabel('Localização da Escola')\n",
    "plt.ylabel('Média das notas em Matemática')\n",
    "plt.title('Boxplot da Média das notas em Matemática por Localização da Escola')\n",
    "plt.show()"
   ]
  },
  {
   "attachments": {},
   "cell_type": "markdown",
   "metadata": {},
   "source": [
    "Pode se observar que os índices de Escolas em zonas Urbanas apresentam maiores médias e relações entre os quartis se comparadas a escolas em zonas Rurais."
   ]
  },
  {
   "attachments": {},
   "cell_type": "markdown",
   "metadata": {},
   "source": [
    "4) Taxa de abandono (feature qualitativa) X Média das notas em matemática (target quantitativa)"
   ]
  },
  {
   "attachments": {},
   "cell_type": "markdown",
   "metadata": {},
   "source": [
    "- Esse indicador é expresso pela razão entre os abandonos (subtraídos os alunos que se matricularam, mas ao longo do ano letivo foram transferidos, ou faleceram, ou dos quais não se tem informação, somados os alunos admitidos) e a soma entre abandono, aprovação e reprovação, multiplicados por 100."
   ]
  },
  {
   "cell_type": "code",
   "execution_count": 514,
   "metadata": {},
   "outputs": [
    {
     "data": {
      "image/png": "[encoded data removed]",
      "text/plain": [
       "<Figure size 720x432 with 1 Axes>"
      ]
     },
     "metadata": {
      "needs_background": "light"
     },
     "output_type": "display_data"
    }
   ],
   "source": [
    "# Gráfico de Dispersão: Taxa de Abandono vs. Média das notas em Matemática\n",
    "plt.figure(figsize=(10, 6))\n",
    "plt.scatter(dados_limpando['NU_MEDIA_MT'], dados_limpando['NU_TAXA_ABANDONO'])\n",
    "plt.xlabel('Taxa de Abandono')\n",
    "plt.ylabel('Média das notas em Matemática')\n",
    "plt.title('Taxa de Abandono vs. Média das notas em Matemática')\n",
    "plt.show()"
   ]
  },
  {
   "attachments": {},
   "cell_type": "markdown",
   "metadata": {},
   "source": [
    "A associação entre as variáveis revela que quanto maior é  ataxa de abandono de uma determinada escola, menor é a sua média em matemática pelo ENEM."
   ]
  },
  {
   "attachments": {},
   "cell_type": "markdown",
   "metadata": {},
   "source": [
    "5) Porte da escola (feature qualitativa) X Média das notas em matemática (target quantitativa)"
   ]
  },
  {
   "cell_type": "code",
   "execution_count": 515,
   "metadata": {},
   "outputs": [
    {
     "data": {
      "image/png": "[encoded data removed]",
      "text/plain": [
       "<Figure size 720x432 with 1 Axes>"
      ]
     },
     "metadata": {
      "needs_background": "light"
     },
     "output_type": "display_data"
    }
   ],
   "source": [
    "# Boxplot da Média das notas em Matemática segmentadas por Porte da Escola\n",
    "cat_porte = dados_limpando['PORTE_ESCOLA'].astype('category')\n",
    "plt.figure(figsize=(10, 6))\n",
    "sns.boxplot(x= cat_porte, y='NU_MEDIA_MT', data=dados_limpando)\n",
    "plt.xlabel('Porte da Escola')\n",
    "plt.ylabel('Média das notas em Matemática')\n",
    "plt.title('Boxplot da Média das notas em Matemática por Porte da Escola')\n",
    "plt.show()"
   ]
  },
  {
   "attachments": {},
   "cell_type": "markdown",
   "metadata": {},
   "source": [
    "Pode se observar que os índices de escolas com menor apresentam maiores médias e relações entre os quartis se comparadas a escolas de maior porte. Todavua, as que assumem maior porte, por menor que seja a média em comparação às outras, possuem uma estabilidade maior dentro da sua mediana, visto que assumem um espaço amostral maior que as demais."
   ]
  },
  {
   "attachments": {},
   "cell_type": "markdown",
   "metadata": {},
   "source": [
    "6) INSE (feature qualitativa) X Média das notas em matemática (target quantitativa)"
   ]
  },
  {
   "attachments": {},
   "cell_type": "markdown",
   "metadata": {},
   "source": [
    "Para tal indicador, foram criados seis grupos, de forma que o Grupo 1 congrega as escolas com Inse médio mais baixo e o Grupo 6, com mais alto."
   ]
  },
  {
   "cell_type": "code",
   "execution_count": 516,
   "metadata": {},
   "outputs": [
    {
     "data": {
      "image/png": "[encoded data removed]",
      "text/plain": [
       "<Figure size 720x432 with 1 Axes>"
      ]
     },
     "metadata": {
      "needs_background": "light"
     },
     "output_type": "display_data"
    }
   ],
   "source": [
    "# Boxplot do INSE em relação à Média das notas em Matemática\n",
    "cat_inse = dados_limpando['INSE'].astype('category')\n",
    "plt.figure(figsize=(10, 6))\n",
    "sns.boxplot(x= cat_inse, y='NU_MEDIA_MT', data=dados_limpando)\n",
    "plt.xlabel('Média das notas em Matemática')\n",
    "plt.ylabel('INSE')\n",
    "plt.title('Boxplot do INSE em relação à Média das notas em Matemática')\n",
    "plt.show()"
   ]
  },
  {
   "attachments": {},
   "cell_type": "markdown",
   "metadata": {},
   "source": [
    "A partir deste gráfico, conclui-se que quanto maior for o nível socioeconômico avaliado, seus mínimos e máximos consequentemente serão superiores aos demais grupos que estão em patamares socioeconômicos inferiores. "
   ]
  },
  {
   "attachments": {},
   "cell_type": "markdown",
   "metadata": {},
   "source": [
    "7) Aplicação da função \"associations\" da biblioteca Dython"
   ]
  },
  {
   "attachments": {},
   "cell_type": "markdown",
   "metadata": {},
   "source": [
    "A importância dessa ferramenta está relacionada à compreensão das relações entre variáveis categóricas em um conjunto de dados. O teste do qui-quadrado é uma técnica estatística que permite determinar se existe uma associação significativa entre duas variáveis categóricas, indicando se essas variáveis são dependentes ou independentes uma da outra. A partir do gráfico de calor, é possível identificar padrões de associação entre variáveis, o que pode fornecer insights valiosos para a compreensão do comportamento dos dados relacionados às médias de matemática por escolas e auxiliar na tomada de decisões informadas."
   ]
  },
  {
   "cell_type": "code",
   "execution_count": 517,
   "metadata": {},
   "outputs": [
    {
     "data": {
      "image/png": "[encoded data removed]",
      "text/plain": [
       "<Figure size 1008x864 with 2 Axes>"
      ]
     },
     "metadata": {
      "needs_background": "light"
     },
     "output_type": "display_data"
    },
    {
     "data": {
      "text/plain": [
       "{'corr':                            TP_DEPENDENCIA_ADM_ESCOLA  TP_LOCALIZACAO_ESCOLA  \\\n",
       " TP_DEPENDENCIA_ADM_ESCOLA                   1.000000              -0.133953   \n",
       " TP_LOCALIZACAO_ESCOLA                      -0.133953               1.000000   \n",
       " NU_TAXA_ABANDONO                           -0.491872               0.030753   \n",
       " PORTE_ESCOLA                                0.485912               0.086309   \n",
       " NU_MEDIA_MT                                 0.604000              -0.112197   \n",
       " INSE                                        0.652178               0.178834   \n",
       " \n",
       "                            NU_TAXA_ABANDONO  PORTE_ESCOLA  NU_MEDIA_MT  \\\n",
       " TP_DEPENDENCIA_ADM_ESCOLA         -0.491872      0.485912     0.604000   \n",
       " TP_LOCALIZACAO_ESCOLA              0.030753      0.086309    -0.112197   \n",
       " NU_TAXA_ABANDONO                   1.000000      0.277055    -0.452961   \n",
       " PORTE_ESCOLA                       0.277055      1.000000     0.201365   \n",
       " NU_MEDIA_MT                       -0.452961      0.201365     1.000000   \n",
       " INSE                               0.466771      0.167509     0.779058   \n",
       " \n",
       "                                INSE  \n",
       " TP_DEPENDENCIA_ADM_ESCOLA  0.652178  \n",
       " TP_LOCALIZACAO_ESCOLA      0.178834  \n",
       " NU_TAXA_ABANDONO           0.466771  \n",
       " PORTE_ESCOLA               0.167509  \n",
       " NU_MEDIA_MT                0.779058  \n",
       " INSE                       1.000000  ,\n",
       " 'ax': <Axes: title={'center': 'Chi2'}>}"
      ]
     },
     "execution_count": 517,
     "metadata": {},
     "output_type": "execute_result"
    }
   ],
   "source": [
    "from dython.nominal import associations\n",
    "associations(dados_limpando, figsize=(14,12), title='Chi2')"
   ]
  },
  {
   "attachments": {},
   "cell_type": "markdown",
   "metadata": {},
   "source": [
    "## Modelos de predição\n"
   ]
  },
  {
   "attachments": {},
   "cell_type": "markdown",
   "metadata": {},
   "source": [
    "Para a realização do modelo de predição, serão utilizadas duas técnicas: a Regressão Linear e a Árvore de decisão."
   ]
  },
  {
   "attachments": {},
   "cell_type": "markdown",
   "metadata": {},
   "source": [
    "## Regressão Linear"
   ]
  },
  {
   "attachments": {},
   "cell_type": "markdown",
   "metadata": {},
   "source": [
    "A regressão linear simples é um método estatístico amplamente utilizado para modelar a relação entre uma variável dependente e uma variável independente. \n",
    "\n",
    "O modelo de regressão linear assume uma relação linear entre as variáveis, o que significa que tenta encontrar a melhor linha reta que se ajusta aos dados disponíveis. Essa linha reta é determinada através da minimização dos erros entre os valores reais e os valores previstos pelo modelo.\n",
    "\n",
    "O objetivo da regressão linear é encontrar os coeficientes ou pesos das variáveis independentes que minimizam a soma dos quadrados dos resíduos (erros). Esses coeficientes representam as contribuições relativas das variáveis independentes na previsão da variável dependente.\n",
    "\n",
    "Uma vez que o modelo de regressão linear é treinado com os dados históricos, ele pode ser utilizado para fazer previsões em novos dados, onde as variáveis independentes são conhecidas. Ao aplicar as variáveis independentes ao modelo, ele calcula uma estimativa numérica para a variável dependente."
   ]
  },
  {
   "attachments": {},
   "cell_type": "markdown",
   "metadata": {},
   "source": [
    "Neste caso, ela foi utilizada com o intuito de compreender as relações entre as variáveis,  fazer previsões, controlar variáveis de confusão, analisar a importância relativa dos fatores e interpretar os resultados de forma estatisticamente significativa. \n",
    "\n",
    "A regressão linear permite fazer previsões sobre a média de notas de matemática no ENEM com base nos valores das variáveis independentes. Isso pode ser útil para entender quais variáveis têm maior impacto nas notas dos alunos e como diferentes fatores estão relacionados.\n",
    "\n",
    "Além disso, é possível controlar o efeito de outras variáveis ao analisar o impacto de uma variável específica. Isso ajuda a evitar conclusões equivocadas ou distorcidas ao considerar apenas uma variável isoladamente.\n",
    "\n",
    "Os coeficientes de regressão fornecem informações sobre a direção e magnitude da relação entre as variáveis independentes e a variável dependente. Além disso, os testes estatísticos associados à regressão permitem avaliar a significância estatística dessas relações."
   ]
  },
  {
   "attachments": {},
   "cell_type": "markdown",
   "metadata": {},
   "source": [
    "## Árvore de Decisão"
   ]
  },
  {
   "attachments": {},
   "cell_type": "markdown",
   "metadata": {},
   "source": [
    "O modelo de predição de árvore de decisão é um algoritmo de aprendizado de máquina que utiliza uma estrutura em forma de árvore para fazer previsões ou tomar decisões. É um método supervisionado, o que significa que requer dados rotulados para treinar o modelo.\n",
    "\n",
    "A árvore de decisão é construída a partir de um conjunto de regras de decisão que dividem os dados com base nas características ou atributos disponíveis. Cada nó interno da árvore representa uma condição sobre uma característica específica, e cada ramo representa uma saída ou caminho a ser seguido. Os nós folha da árvore contêm as previsões ou resultados finais.\n",
    "\n",
    "Durante o treinamento, o modelo de árvore de decisão busca encontrar as melhores divisões dos dados, com o objetivo de maximizar a pureza dos grupos resultantes ou reduzir a incerteza. Existem diferentes critérios de divisão, como ganho de informação, índice Gini ou erro quadrático médio, que são utilizados para avaliar a qualidade das divisões e escolher a melhor.\n",
    "\n",
    "Uma vez que a árvore de decisão é construída, ela pode ser utilizada para fazer previsões ou classificar novos dados. Para isso, os dados de entrada são percorridos ao longo da árvore, seguindo as condições e ramificações até chegar a um nó folha, onde é feita a previsão ou decisão final."
   ]
  },
  {
   "attachments": {},
   "cell_type": "markdown",
   "metadata": {},
   "source": [
    "As árvores são relativamente rápidas de treinar e prever, mesmo em conjuntos de dados maiores. Isso torna as árvores de decisão uma opção viável para análise exploratória rápida e modelagem preditiva em muitos contextos.\n",
    "\n",
    "Além disso, têm uma boa tolerância a outliers e podem lidar com dados faltantes sem a necessidade de imputação. As divisões nas árvores são baseadas em critérios de impureza ou ganho de informação, o que torna o modelo menos sensível a valores extremos ou dados ausentes."
   ]
  },
  {
   "attachments": {},
   "cell_type": "markdown",
   "metadata": {},
   "source": [
    "Tal método permite a interpretabilidade, tratamento adequado de variáveis qualitativas, detecção de interações complexas, robustez a outliers e dados faltantes, além de oferecer flexibilidade e bom desempenho. Essas características tornam as árvores de decisão uma ferramenta valiosa para analisar e prever os resultados do estudo.\n",
    "\n",
    "\n",
    "\n",
    "\n"
   ]
  },
  {
   "cell_type": "code",
   "execution_count": 518,
   "metadata": {},
   "outputs": [],
   "source": [
    "dados_dummies = pd.get_dummies(dados_limpando, columns=[\"TP_DEPENDENCIA_ADM_ESCOLA\", \"TP_LOCALIZACAO_ESCOLA\", \"PORTE_ESCOLA\", \"INSE\"])"
   ]
  },
  {
   "cell_type": "code",
   "execution_count": 519,
   "metadata": {},
   "outputs": [
    {
     "data": {
      "text/html": [
       "<div>\n",
       "<style scoped>\n",
       "    .dataframe tbody tr th:only-of-type {\n",
       "        vertical-align: middle;\n",
       "    }\n",
       "\n",
       "    .dataframe tbody tr th {\n",
       "        vertical-align: top;\n",
       "    }\n",
       "\n",
       "    .dataframe thead th {\n",
       "        text-align: right;\n",
       "    }\n",
       "</style>\n",
       "<table border=\"1\" class=\"dataframe\">\n",
       "  <thead>\n",
       "    <tr style=\"text-align: right;\">\n",
       "      <th></th>\n",
       "      <th>NU_TAXA_ABANDONO</th>\n",
       "      <th>NU_MEDIA_MT</th>\n",
       "      <th>TP_DEPENDENCIA_ADM_ESCOLA_1</th>\n",
       "      <th>TP_DEPENDENCIA_ADM_ESCOLA_2</th>\n",
       "      <th>TP_DEPENDENCIA_ADM_ESCOLA_3</th>\n",
       "      <th>TP_DEPENDENCIA_ADM_ESCOLA_4</th>\n",
       "      <th>TP_LOCALIZACAO_ESCOLA_1</th>\n",
       "      <th>TP_LOCALIZACAO_ESCOLA_2</th>\n",
       "      <th>PORTE_ESCOLA_De 1 a 30 alunos</th>\n",
       "      <th>PORTE_ESCOLA_De 31 a 60 alunos</th>\n",
       "      <th>PORTE_ESCOLA_De 61 a 90 alunos</th>\n",
       "      <th>PORTE_ESCOLA_Maior que 90 alunos</th>\n",
       "      <th>INSE_Grupo 1</th>\n",
       "      <th>INSE_Grupo 2</th>\n",
       "      <th>INSE_Grupo 3</th>\n",
       "      <th>INSE_Grupo 4</th>\n",
       "      <th>INSE_Grupo 5</th>\n",
       "      <th>INSE_Grupo 6</th>\n",
       "    </tr>\n",
       "  </thead>\n",
       "  <tbody>\n",
       "    <tr>\n",
       "      <th>67619</th>\n",
       "      <td>0.0</td>\n",
       "      <td>627.66</td>\n",
       "      <td>0</td>\n",
       "      <td>0</td>\n",
       "      <td>0</td>\n",
       "      <td>1</td>\n",
       "      <td>1</td>\n",
       "      <td>0</td>\n",
       "      <td>0</td>\n",
       "      <td>0</td>\n",
       "      <td>0</td>\n",
       "      <td>1</td>\n",
       "      <td>0</td>\n",
       "      <td>0</td>\n",
       "      <td>0</td>\n",
       "      <td>0</td>\n",
       "      <td>0</td>\n",
       "      <td>1</td>\n",
       "    </tr>\n",
       "    <tr>\n",
       "      <th>67628</th>\n",
       "      <td>0.0</td>\n",
       "      <td>459.72</td>\n",
       "      <td>0</td>\n",
       "      <td>0</td>\n",
       "      <td>0</td>\n",
       "      <td>1</td>\n",
       "      <td>1</td>\n",
       "      <td>0</td>\n",
       "      <td>1</td>\n",
       "      <td>0</td>\n",
       "      <td>0</td>\n",
       "      <td>0</td>\n",
       "      <td>0</td>\n",
       "      <td>0</td>\n",
       "      <td>0</td>\n",
       "      <td>1</td>\n",
       "      <td>0</td>\n",
       "      <td>0</td>\n",
       "    </tr>\n",
       "    <tr>\n",
       "      <th>67640</th>\n",
       "      <td>0.0</td>\n",
       "      <td>507.22</td>\n",
       "      <td>0</td>\n",
       "      <td>0</td>\n",
       "      <td>0</td>\n",
       "      <td>1</td>\n",
       "      <td>1</td>\n",
       "      <td>0</td>\n",
       "      <td>0</td>\n",
       "      <td>1</td>\n",
       "      <td>0</td>\n",
       "      <td>0</td>\n",
       "      <td>0</td>\n",
       "      <td>0</td>\n",
       "      <td>0</td>\n",
       "      <td>0</td>\n",
       "      <td>1</td>\n",
       "      <td>0</td>\n",
       "    </tr>\n",
       "    <tr>\n",
       "      <th>67642</th>\n",
       "      <td>0.8</td>\n",
       "      <td>529.87</td>\n",
       "      <td>0</td>\n",
       "      <td>0</td>\n",
       "      <td>0</td>\n",
       "      <td>1</td>\n",
       "      <td>1</td>\n",
       "      <td>0</td>\n",
       "      <td>0</td>\n",
       "      <td>1</td>\n",
       "      <td>0</td>\n",
       "      <td>0</td>\n",
       "      <td>0</td>\n",
       "      <td>0</td>\n",
       "      <td>0</td>\n",
       "      <td>0</td>\n",
       "      <td>1</td>\n",
       "      <td>0</td>\n",
       "    </tr>\n",
       "    <tr>\n",
       "      <th>67648</th>\n",
       "      <td>2.4</td>\n",
       "      <td>528.93</td>\n",
       "      <td>0</td>\n",
       "      <td>0</td>\n",
       "      <td>0</td>\n",
       "      <td>1</td>\n",
       "      <td>1</td>\n",
       "      <td>0</td>\n",
       "      <td>1</td>\n",
       "      <td>0</td>\n",
       "      <td>0</td>\n",
       "      <td>0</td>\n",
       "      <td>0</td>\n",
       "      <td>0</td>\n",
       "      <td>0</td>\n",
       "      <td>0</td>\n",
       "      <td>1</td>\n",
       "      <td>0</td>\n",
       "    </tr>\n",
       "    <tr>\n",
       "      <th>...</th>\n",
       "      <td>...</td>\n",
       "      <td>...</td>\n",
       "      <td>...</td>\n",
       "      <td>...</td>\n",
       "      <td>...</td>\n",
       "      <td>...</td>\n",
       "      <td>...</td>\n",
       "      <td>...</td>\n",
       "      <td>...</td>\n",
       "      <td>...</td>\n",
       "      <td>...</td>\n",
       "      <td>...</td>\n",
       "      <td>...</td>\n",
       "      <td>...</td>\n",
       "      <td>...</td>\n",
       "      <td>...</td>\n",
       "      <td>...</td>\n",
       "      <td>...</td>\n",
       "    </tr>\n",
       "    <tr>\n",
       "      <th>172288</th>\n",
       "      <td>0.0</td>\n",
       "      <td>786.28</td>\n",
       "      <td>0</td>\n",
       "      <td>0</td>\n",
       "      <td>0</td>\n",
       "      <td>1</td>\n",
       "      <td>1</td>\n",
       "      <td>0</td>\n",
       "      <td>0</td>\n",
       "      <td>0</td>\n",
       "      <td>1</td>\n",
       "      <td>0</td>\n",
       "      <td>0</td>\n",
       "      <td>0</td>\n",
       "      <td>0</td>\n",
       "      <td>0</td>\n",
       "      <td>0</td>\n",
       "      <td>1</td>\n",
       "    </tr>\n",
       "    <tr>\n",
       "      <th>172292</th>\n",
       "      <td>0.0</td>\n",
       "      <td>452.82</td>\n",
       "      <td>0</td>\n",
       "      <td>1</td>\n",
       "      <td>0</td>\n",
       "      <td>0</td>\n",
       "      <td>1</td>\n",
       "      <td>0</td>\n",
       "      <td>0</td>\n",
       "      <td>0</td>\n",
       "      <td>1</td>\n",
       "      <td>0</td>\n",
       "      <td>0</td>\n",
       "      <td>0</td>\n",
       "      <td>1</td>\n",
       "      <td>0</td>\n",
       "      <td>0</td>\n",
       "      <td>0</td>\n",
       "    </tr>\n",
       "    <tr>\n",
       "      <th>172296</th>\n",
       "      <td>12.0</td>\n",
       "      <td>456.23</td>\n",
       "      <td>0</td>\n",
       "      <td>1</td>\n",
       "      <td>0</td>\n",
       "      <td>0</td>\n",
       "      <td>1</td>\n",
       "      <td>0</td>\n",
       "      <td>0</td>\n",
       "      <td>0</td>\n",
       "      <td>0</td>\n",
       "      <td>1</td>\n",
       "      <td>0</td>\n",
       "      <td>0</td>\n",
       "      <td>1</td>\n",
       "      <td>0</td>\n",
       "      <td>0</td>\n",
       "      <td>0</td>\n",
       "    </tr>\n",
       "    <tr>\n",
       "      <th>172302</th>\n",
       "      <td>11.0</td>\n",
       "      <td>428.90</td>\n",
       "      <td>0</td>\n",
       "      <td>1</td>\n",
       "      <td>0</td>\n",
       "      <td>0</td>\n",
       "      <td>1</td>\n",
       "      <td>0</td>\n",
       "      <td>0</td>\n",
       "      <td>0</td>\n",
       "      <td>0</td>\n",
       "      <td>1</td>\n",
       "      <td>0</td>\n",
       "      <td>0</td>\n",
       "      <td>1</td>\n",
       "      <td>0</td>\n",
       "      <td>0</td>\n",
       "      <td>0</td>\n",
       "    </tr>\n",
       "    <tr>\n",
       "      <th>172304</th>\n",
       "      <td>0.0</td>\n",
       "      <td>464.84</td>\n",
       "      <td>0</td>\n",
       "      <td>0</td>\n",
       "      <td>0</td>\n",
       "      <td>1</td>\n",
       "      <td>1</td>\n",
       "      <td>0</td>\n",
       "      <td>1</td>\n",
       "      <td>0</td>\n",
       "      <td>0</td>\n",
       "      <td>0</td>\n",
       "      <td>0</td>\n",
       "      <td>0</td>\n",
       "      <td>0</td>\n",
       "      <td>0</td>\n",
       "      <td>1</td>\n",
       "      <td>0</td>\n",
       "    </tr>\n",
       "  </tbody>\n",
       "</table>\n",
       "<p>15598 rows × 18 columns</p>\n",
       "</div>"
      ],
      "text/plain": [
       "        NU_TAXA_ABANDONO  NU_MEDIA_MT  TP_DEPENDENCIA_ADM_ESCOLA_1  \\\n",
       "67619                0.0       627.66                            0   \n",
       "67628                0.0       459.72                            0   \n",
       "67640                0.0       507.22                            0   \n",
       "67642                0.8       529.87                            0   \n",
       "67648                2.4       528.93                            0   \n",
       "...                  ...          ...                          ...   \n",
       "172288               0.0       786.28                            0   \n",
       "172292               0.0       452.82                            0   \n",
       "172296              12.0       456.23                            0   \n",
       "172302              11.0       428.90                            0   \n",
       "172304               0.0       464.84                            0   \n",
       "\n",
       "        TP_DEPENDENCIA_ADM_ESCOLA_2  TP_DEPENDENCIA_ADM_ESCOLA_3  \\\n",
       "67619                             0                            0   \n",
       "67628                             0                            0   \n",
       "67640                             0                            0   \n",
       "67642                             0                            0   \n",
       "67648                             0                            0   \n",
       "...                             ...                          ...   \n",
       "172288                            0                            0   \n",
       "172292                            1                            0   \n",
       "172296                            1                            0   \n",
       "172302                            1                            0   \n",
       "172304                            0                            0   \n",
       "\n",
       "        TP_DEPENDENCIA_ADM_ESCOLA_4  TP_LOCALIZACAO_ESCOLA_1  \\\n",
       "67619                             1                        1   \n",
       "67628                             1                        1   \n",
       "67640                             1                        1   \n",
       "67642                             1                        1   \n",
       "67648                             1                        1   \n",
       "...                             ...                      ...   \n",
       "172288                            1                        1   \n",
       "172292                            0                        1   \n",
       "172296                            0                        1   \n",
       "172302                            0                        1   \n",
       "172304                            1                        1   \n",
       "\n",
       "        TP_LOCALIZACAO_ESCOLA_2  PORTE_ESCOLA_De 1 a 30 alunos  \\\n",
       "67619                         0                              0   \n",
       "67628                         0                              1   \n",
       "67640                         0                              0   \n",
       "67642                         0                              0   \n",
       "67648                         0                              1   \n",
       "...                         ...                            ...   \n",
       "172288                        0                              0   \n",
       "172292                        0                              0   \n",
       "172296                        0                              0   \n",
       "172302                        0                              0   \n",
       "172304                        0                              1   \n",
       "\n",
       "        PORTE_ESCOLA_De 31 a 60 alunos  PORTE_ESCOLA_De 61 a 90 alunos  \\\n",
       "67619                                0                               0   \n",
       "67628                                0                               0   \n",
       "67640                                1                               0   \n",
       "67642                                1                               0   \n",
       "67648                                0                               0   \n",
       "...                                ...                             ...   \n",
       "172288                               0                               1   \n",
       "172292                               0                               1   \n",
       "172296                               0                               0   \n",
       "172302                               0                               0   \n",
       "172304                               0                               0   \n",
       "\n",
       "        PORTE_ESCOLA_Maior que 90 alunos  INSE_Grupo 1  INSE_Grupo 2  \\\n",
       "67619                                  1             0             0   \n",
       "67628                                  0             0             0   \n",
       "67640                                  0             0             0   \n",
       "67642                                  0             0             0   \n",
       "67648                                  0             0             0   \n",
       "...                                  ...           ...           ...   \n",
       "172288                                 0             0             0   \n",
       "172292                                 0             0             0   \n",
       "172296                                 1             0             0   \n",
       "172302                                 1             0             0   \n",
       "172304                                 0             0             0   \n",
       "\n",
       "        INSE_Grupo 3  INSE_Grupo 4  INSE_Grupo 5  INSE_Grupo 6  \n",
       "67619              0             0             0             1  \n",
       "67628              0             1             0             0  \n",
       "67640              0             0             1             0  \n",
       "67642              0             0             1             0  \n",
       "67648              0             0             1             0  \n",
       "...              ...           ...           ...           ...  \n",
       "172288             0             0             0             1  \n",
       "172292             1             0             0             0  \n",
       "172296             1             0             0             0  \n",
       "172302             1             0             0             0  \n",
       "172304             0             0             1             0  \n",
       "\n",
       "[15598 rows x 18 columns]"
      ]
     },
     "execution_count": 519,
     "metadata": {},
     "output_type": "execute_result"
    }
   ],
   "source": [
    "dados_dummies"
   ]
  },
  {
   "cell_type": "code",
   "execution_count": 556,
   "metadata": {},
   "outputs": [
    {
     "name": "stdout",
     "output_type": "stream",
     "text": [
      "Previsão usando Regressão Linear: 373.71603319136506\n",
      "Previsão usando Árvore de Decisão: 477.41\n"
     ]
    }
   ],
   "source": [
    "def fazer_previsao():\n",
    "    # Obtendo as características da escola a partir de input\n",
    "    dependencia = int(input(\"Informe o tipo de dependência administrativa da escola: \"))\n",
    "    localizacao = int(input(\"Informe o tipo de localização da escola: \"))\n",
    "    taxa_abandono = float(input(\"Informe a taxa de abandono da escola: \"))\n",
    "    porte = int(input(\"Informe o porte da escola: \"))\n",
    "    inse = int(input(\"Informe o grupo INSE da escola: \"))\n",
    "    \n",
    "    # Criando um DataFrame com as características fornecidas\n",
    "    features = pd.DataFrame([[dependencia, localizacao, taxa_abandono, porte, inse]],\n",
    "                            columns=['TP_DEPENDENCIA_ADM_ESCOLA', 'TP_LOCALIZACAO_ESCOLA', 'NU_TAXA_ABANDONO', 'PORTE_ESCOLA', 'INSE'])\n",
    "    \n",
    "    # Fazendo a previsão usando os modelos treinados\n",
    "    linear_prediction = linear_model.predict(features)\n",
    "    tree_prediction = tree_model.predict(features)\n",
    "    \n",
    "    # Retornandp as previsões\n",
    "    return linear_prediction[0], tree_prediction[0]\n",
    "\n",
    "# Utilizando a função para fazer previsões\n",
    "linear_model = LinearRegression()\n",
    "tree_model = DecisionTreeRegressor()\n",
    "\n",
    "linear_model.fit(X_train, y_train)\n",
    "tree_model.fit(X_train, y_train)\n",
    "\n",
    "linear_pred, tree_pred = fazer_previsao()\n",
    "\n",
    "print('Previsão usando Regressão Linear:', linear_pred)\n",
    "print('Previsão usando Árvore de Decisão:', tree_pred)\n",
    "\n"
   ]
  },
  {
   "cell_type": "code",
   "execution_count": 557,
   "metadata": {},
   "outputs": [
    {
     "data": {
      "text/html": [
       "<div>\n",
       "<style scoped>\n",
       "    .dataframe tbody tr th:only-of-type {\n",
       "        vertical-align: middle;\n",
       "    }\n",
       "\n",
       "    .dataframe tbody tr th {\n",
       "        vertical-align: top;\n",
       "    }\n",
       "\n",
       "    .dataframe thead th {\n",
       "        text-align: right;\n",
       "    }\n",
       "</style>\n",
       "<table border=\"1\" class=\"dataframe\">\n",
       "  <thead>\n",
       "    <tr style=\"text-align: right;\">\n",
       "      <th></th>\n",
       "      <th>TP_DEPENDENCIA_ADM_ESCOLA</th>\n",
       "      <th>TP_LOCALIZACAO_ESCOLA</th>\n",
       "      <th>NU_TAXA_ABANDONO</th>\n",
       "      <th>PORTE_ESCOLA</th>\n",
       "      <th>NU_MEDIA_MT</th>\n",
       "      <th>INSE</th>\n",
       "    </tr>\n",
       "  </thead>\n",
       "  <tbody>\n",
       "    <tr>\n",
       "      <th>67619</th>\n",
       "      <td>4</td>\n",
       "      <td>1</td>\n",
       "      <td>0.0</td>\n",
       "      <td>4</td>\n",
       "      <td>627.66</td>\n",
       "      <td>6.0</td>\n",
       "    </tr>\n",
       "    <tr>\n",
       "      <th>67628</th>\n",
       "      <td>4</td>\n",
       "      <td>1</td>\n",
       "      <td>0.0</td>\n",
       "      <td>1</td>\n",
       "      <td>459.72</td>\n",
       "      <td>4.0</td>\n",
       "    </tr>\n",
       "    <tr>\n",
       "      <th>67640</th>\n",
       "      <td>4</td>\n",
       "      <td>1</td>\n",
       "      <td>0.0</td>\n",
       "      <td>2</td>\n",
       "      <td>507.22</td>\n",
       "      <td>5.0</td>\n",
       "    </tr>\n",
       "    <tr>\n",
       "      <th>67642</th>\n",
       "      <td>4</td>\n",
       "      <td>1</td>\n",
       "      <td>0.8</td>\n",
       "      <td>2</td>\n",
       "      <td>529.87</td>\n",
       "      <td>5.0</td>\n",
       "    </tr>\n",
       "    <tr>\n",
       "      <th>67648</th>\n",
       "      <td>4</td>\n",
       "      <td>1</td>\n",
       "      <td>2.4</td>\n",
       "      <td>1</td>\n",
       "      <td>528.93</td>\n",
       "      <td>5.0</td>\n",
       "    </tr>\n",
       "    <tr>\n",
       "      <th>...</th>\n",
       "      <td>...</td>\n",
       "      <td>...</td>\n",
       "      <td>...</td>\n",
       "      <td>...</td>\n",
       "      <td>...</td>\n",
       "      <td>...</td>\n",
       "    </tr>\n",
       "    <tr>\n",
       "      <th>172288</th>\n",
       "      <td>4</td>\n",
       "      <td>1</td>\n",
       "      <td>0.0</td>\n",
       "      <td>3</td>\n",
       "      <td>786.28</td>\n",
       "      <td>6.0</td>\n",
       "    </tr>\n",
       "    <tr>\n",
       "      <th>172292</th>\n",
       "      <td>2</td>\n",
       "      <td>1</td>\n",
       "      <td>0.0</td>\n",
       "      <td>3</td>\n",
       "      <td>452.82</td>\n",
       "      <td>3.0</td>\n",
       "    </tr>\n",
       "    <tr>\n",
       "      <th>172296</th>\n",
       "      <td>2</td>\n",
       "      <td>1</td>\n",
       "      <td>12.0</td>\n",
       "      <td>4</td>\n",
       "      <td>456.23</td>\n",
       "      <td>3.0</td>\n",
       "    </tr>\n",
       "    <tr>\n",
       "      <th>172302</th>\n",
       "      <td>2</td>\n",
       "      <td>1</td>\n",
       "      <td>11.0</td>\n",
       "      <td>4</td>\n",
       "      <td>428.90</td>\n",
       "      <td>3.0</td>\n",
       "    </tr>\n",
       "    <tr>\n",
       "      <th>172304</th>\n",
       "      <td>4</td>\n",
       "      <td>1</td>\n",
       "      <td>0.0</td>\n",
       "      <td>1</td>\n",
       "      <td>464.84</td>\n",
       "      <td>5.0</td>\n",
       "    </tr>\n",
       "  </tbody>\n",
       "</table>\n",
       "<p>15598 rows × 6 columns</p>\n",
       "</div>"
      ],
      "text/plain": [
       "        TP_DEPENDENCIA_ADM_ESCOLA  TP_LOCALIZACAO_ESCOLA  NU_TAXA_ABANDONO  \\\n",
       "67619                           4                      1               0.0   \n",
       "67628                           4                      1               0.0   \n",
       "67640                           4                      1               0.0   \n",
       "67642                           4                      1               0.8   \n",
       "67648                           4                      1               2.4   \n",
       "...                           ...                    ...               ...   \n",
       "172288                          4                      1               0.0   \n",
       "172292                          2                      1               0.0   \n",
       "172296                          2                      1              12.0   \n",
       "172302                          2                      1              11.0   \n",
       "172304                          4                      1               0.0   \n",
       "\n",
       "        PORTE_ESCOLA  NU_MEDIA_MT  INSE  \n",
       "67619              4       627.66   6.0  \n",
       "67628              1       459.72   4.0  \n",
       "67640              2       507.22   5.0  \n",
       "67642              2       529.87   5.0  \n",
       "67648              1       528.93   5.0  \n",
       "...              ...          ...   ...  \n",
       "172288             3       786.28   6.0  \n",
       "172292             3       452.82   3.0  \n",
       "172296             4       456.23   3.0  \n",
       "172302             4       428.90   3.0  \n",
       "172304             1       464.84   5.0  \n",
       "\n",
       "[15598 rows x 6 columns]"
      ]
     },
     "execution_count": 557,
     "metadata": {},
     "output_type": "execute_result"
    }
   ],
   "source": [
    "#De início, vamos alterar a base dados\n",
    "dados_manipulados = dados_limpando\n",
    "# Transformar a coluna \"PORTE_ESCOLA\"\n",
    "dados_manipulados['PORTE_ESCOLA'] = dados_manipulados['PORTE_ESCOLA'].replace({\n",
    "    'De 1 a 30 alunos': 1,\n",
    "    'De 31 a 60 alunos': 2,\n",
    "    'De 61 a 90 alunos': 3,\n",
    "    'Maior que 90 alunos': 4\n",
    "})\n",
    "\n",
    "# Transformar a coluna \"INSE\"\n",
    "dados_manipulados['INSE'] = dados_manipulados['INSE'].replace({\n",
    "    'Grupo 1': 1,\n",
    "    'Grupo 2': 2,\n",
    "    'Grupo 3': 3,\n",
    "    'Grupo 4': 4,\n",
    "    'Grupo 5': 5,\n",
    "    'Grupo 6': 6\n",
    "})\n",
    "\n",
    "dados_manipulados"
   ]
  },
  {
   "cell_type": "code",
   "execution_count": 558,
   "metadata": {},
   "outputs": [
    {
     "data": {
      "text/plain": [
       "DecisionTreeRegressor()"
      ]
     },
     "execution_count": 558,
     "metadata": {},
     "output_type": "execute_result"
    }
   ],
   "source": [
    "import pandas as pd\n",
    "from sklearn.model_selection import train_test_split\n",
    "from sklearn.linear_model import LinearRegression\n",
    "from sklearn.tree import DecisionTreeRegressor\n",
    "from sklearn.metrics import mean_squared_error, r2_score\n",
    "\n",
    "# Preencher valores ausentes com a média\n",
    "dados_manipulados.fillna(dados_manipulados.mean(), inplace=True)\n",
    "\n",
    "# Selecionar as features e target\n",
    "features = dados_manipulados[['TP_DEPENDENCIA_ADM_ESCOLA', 'TP_LOCALIZACAO_ESCOLA', 'NU_TAXA_ABANDONO', 'PORTE_ESCOLA', 'INSE']]\n",
    "target = dados_manipulados['NU_MEDIA_MT']\n",
    "\n",
    "# Dividindo os dados em conjuntos de treinamento e teste\n",
    "X_train, X_test, y_train, y_test = train_test_split(features, target, test_size=0.2, random_state=42)\n",
    "\n",
    "# Criar o modelo de regressão linear\n",
    "linear_model = LinearRegression()\n",
    "linear_model.fit(X_train, y_train)\n",
    "\n",
    "# Fazendo previsões usando o modelo de regressão linear\n",
    "predicao_linear = linear_model.predict(X_test)\n",
    "\n",
    "# Criar o modelo de árvore de decisão\n",
    "tree_model = DecisionTreeRegressor()\n",
    "tree_model.fit(X_train, y_train)"
   ]
  },
  {
   "cell_type": "code",
   "execution_count": 559,
   "metadata": {},
   "outputs": [
    {
     "data": {
      "text/html": [
       "<div>\n",
       "<style scoped>\n",
       "    .dataframe tbody tr th:only-of-type {\n",
       "        vertical-align: middle;\n",
       "    }\n",
       "\n",
       "    .dataframe tbody tr th {\n",
       "        vertical-align: top;\n",
       "    }\n",
       "\n",
       "    .dataframe thead th {\n",
       "        text-align: right;\n",
       "    }\n",
       "</style>\n",
       "<table border=\"1\" class=\"dataframe\">\n",
       "  <thead>\n",
       "    <tr style=\"text-align: right;\">\n",
       "      <th></th>\n",
       "      <th>TP_DEPENDENCIA_ADM_ESCOLA</th>\n",
       "      <th>TP_LOCALIZACAO_ESCOLA</th>\n",
       "      <th>NU_TAXA_ABANDONO</th>\n",
       "      <th>PORTE_ESCOLA</th>\n",
       "      <th>INSE</th>\n",
       "    </tr>\n",
       "  </thead>\n",
       "  <tbody>\n",
       "    <tr>\n",
       "      <th>67619</th>\n",
       "      <td>4</td>\n",
       "      <td>1</td>\n",
       "      <td>0.0</td>\n",
       "      <td>4</td>\n",
       "      <td>6.0</td>\n",
       "    </tr>\n",
       "    <tr>\n",
       "      <th>67628</th>\n",
       "      <td>4</td>\n",
       "      <td>1</td>\n",
       "      <td>0.0</td>\n",
       "      <td>1</td>\n",
       "      <td>4.0</td>\n",
       "    </tr>\n",
       "    <tr>\n",
       "      <th>67640</th>\n",
       "      <td>4</td>\n",
       "      <td>1</td>\n",
       "      <td>0.0</td>\n",
       "      <td>2</td>\n",
       "      <td>5.0</td>\n",
       "    </tr>\n",
       "    <tr>\n",
       "      <th>67642</th>\n",
       "      <td>4</td>\n",
       "      <td>1</td>\n",
       "      <td>0.8</td>\n",
       "      <td>2</td>\n",
       "      <td>5.0</td>\n",
       "    </tr>\n",
       "    <tr>\n",
       "      <th>67648</th>\n",
       "      <td>4</td>\n",
       "      <td>1</td>\n",
       "      <td>2.4</td>\n",
       "      <td>1</td>\n",
       "      <td>5.0</td>\n",
       "    </tr>\n",
       "    <tr>\n",
       "      <th>...</th>\n",
       "      <td>...</td>\n",
       "      <td>...</td>\n",
       "      <td>...</td>\n",
       "      <td>...</td>\n",
       "      <td>...</td>\n",
       "    </tr>\n",
       "    <tr>\n",
       "      <th>172288</th>\n",
       "      <td>4</td>\n",
       "      <td>1</td>\n",
       "      <td>0.0</td>\n",
       "      <td>3</td>\n",
       "      <td>6.0</td>\n",
       "    </tr>\n",
       "    <tr>\n",
       "      <th>172292</th>\n",
       "      <td>2</td>\n",
       "      <td>1</td>\n",
       "      <td>0.0</td>\n",
       "      <td>3</td>\n",
       "      <td>3.0</td>\n",
       "    </tr>\n",
       "    <tr>\n",
       "      <th>172296</th>\n",
       "      <td>2</td>\n",
       "      <td>1</td>\n",
       "      <td>12.0</td>\n",
       "      <td>4</td>\n",
       "      <td>3.0</td>\n",
       "    </tr>\n",
       "    <tr>\n",
       "      <th>172302</th>\n",
       "      <td>2</td>\n",
       "      <td>1</td>\n",
       "      <td>11.0</td>\n",
       "      <td>4</td>\n",
       "      <td>3.0</td>\n",
       "    </tr>\n",
       "    <tr>\n",
       "      <th>172304</th>\n",
       "      <td>4</td>\n",
       "      <td>1</td>\n",
       "      <td>0.0</td>\n",
       "      <td>1</td>\n",
       "      <td>5.0</td>\n",
       "    </tr>\n",
       "  </tbody>\n",
       "</table>\n",
       "<p>15598 rows × 5 columns</p>\n",
       "</div>"
      ],
      "text/plain": [
       "        TP_DEPENDENCIA_ADM_ESCOLA  TP_LOCALIZACAO_ESCOLA  NU_TAXA_ABANDONO  \\\n",
       "67619                           4                      1               0.0   \n",
       "67628                           4                      1               0.0   \n",
       "67640                           4                      1               0.0   \n",
       "67642                           4                      1               0.8   \n",
       "67648                           4                      1               2.4   \n",
       "...                           ...                    ...               ...   \n",
       "172288                          4                      1               0.0   \n",
       "172292                          2                      1               0.0   \n",
       "172296                          2                      1              12.0   \n",
       "172302                          2                      1              11.0   \n",
       "172304                          4                      1               0.0   \n",
       "\n",
       "        PORTE_ESCOLA  INSE  \n",
       "67619              4   6.0  \n",
       "67628              1   4.0  \n",
       "67640              2   5.0  \n",
       "67642              2   5.0  \n",
       "67648              1   5.0  \n",
       "...              ...   ...  \n",
       "172288             3   6.0  \n",
       "172292             3   3.0  \n",
       "172296             4   3.0  \n",
       "172302             4   3.0  \n",
       "172304             1   5.0  \n",
       "\n",
       "[15598 rows x 5 columns]"
      ]
     },
     "execution_count": 559,
     "metadata": {},
     "output_type": "execute_result"
    }
   ],
   "source": [
    "features "
   ]
  },
  {
   "attachments": {},
   "cell_type": "markdown",
   "metadata": {},
   "source": [
    "## Avaliando a perfomance da predição\n"
   ]
  },
  {
   "attachments": {},
   "cell_type": "markdown",
   "metadata": {},
   "source": [
    "Utilizou-se dois métodos que avaliam os modelos de predição:"
   ]
  },
  {
   "attachments": {},
   "cell_type": "markdown",
   "metadata": {},
   "source": [
    "RMSE (Root Mean Square Error):\n",
    "O RMSE mede a diferença média entre as previsões do modelo e os valores reais. Quanto menor o valor do RMSE, melhor o modelo está em termos de ajuste aos dados reais. Em outras palavras, o RMSE indica o quão próximo as previsões estão dos valores reais.\n",
    "\n",
    "R2 (R-squared):\n",
    "O R2 mede o quanto o modelo se ajusta aos dados em relação à variabilidade dos valores reais. Quanto maior o valor de R2, melhor o modelo está em termos de explicar a variabilidade dos dados. Em outras palavras, o R2 indica o quão bem o modelo consegue explicar os valores reais.\n",
    "\n"
   ]
  },
  {
   "cell_type": "code",
   "execution_count": 560,
   "metadata": {},
   "outputs": [
    {
     "name": "stdout",
     "output_type": "stream",
     "text": [
      "Regressão Linear (Treinamento):\n",
      "RMSE: 44.36184043409849\n",
      "R2 Score: 0.5898701338178977\n",
      "\n",
      "Árvore de Decisão (Treinamento):\n",
      "RMSE: 34.994249373490476\n",
      "R2 Score: 0.7447911971895227\n",
      "\n",
      "Regressão Linear (Teste):\n",
      "RMSE: 44.44624207673372\n",
      "R2 Score: 0.574515432009657\n",
      "\n",
      "Árvore de Decisão (Teste):\n",
      "RMSE: 40.733937790434226\n",
      "R2 Score: 0.6426230730026782\n"
     ]
    }
   ],
   "source": [
    "# Regressão Linear pelo train\n",
    "linear_predictions_train = linear_model.predict(X_train)\n",
    "\n",
    "#  treinamento com arvore de decisao\n",
    "tree_predictions_train = tree_model.predict(X_train)\n",
    "\n",
    "#  regressão linear em relação à base de teste\n",
    "linear_predictions_test = linear_model.predict(X_test)\n",
    "\n",
    "#  árvore de decisão em relação à base de teste\n",
    "tree_predictions_test = tree_model.predict(X_test)\n",
    "\n",
    "#  regressão linear na base de treinamento\n",
    "linear_rmse_train = mean_squared_error(y_train, linear_predictions_train, squared=False)\n",
    "linear_r2_train = r2_score(y_train, linear_predictions_train)\n",
    "\n",
    "#  árvore de decisão na base de treinamento\n",
    "tree_rmse_train = mean_squared_error(y_train, tree_predictions_train, squared=False)\n",
    "tree_r2_train = r2_score(y_train, tree_predictions_train)\n",
    "\n",
    "#  regressão linear na base de teste\n",
    "linear_rmse_test = mean_squared_error(y_test, linear_predictions_test, squared=False)\n",
    "linear_r2_test = r2_score(y_test, linear_predictions_test)\n",
    "\n",
    "#  árvore de decisão na base de teste\n",
    "tree_rmse_test = mean_squared_error(y_test, tree_predictions_test, squared=False)\n",
    "tree_r2_test = r2_score(y_test, tree_predictions_test)\n",
    "\n",
    "print(\"Regressão Linear (Treinamento):\")\n",
    "print(\"RMSE:\", linear_rmse_train)\n",
    "print(\"R2 Score:\", linear_r2_train)\n",
    "print()\n",
    "print(\"Árvore de Decisão (Treinamento):\")\n",
    "print(\"RMSE:\", tree_rmse_train)\n",
    "print(\"R2 Score:\", tree_r2_train)\n",
    "print()\n",
    "print(\"Regressão Linear (Teste):\")\n",
    "print(\"RMSE:\", linear_rmse_test)\n",
    "print(\"R2 Score:\", linear_r2_test)\n",
    "print()\n",
    "print(\"Árvore de Decisão (Teste):\")\n",
    "print(\"RMSE:\", tree_rmse_test)\n",
    "print(\"R2 Score:\", tree_r2_test)"
   ]
  },
  {
   "attachments": {},
   "cell_type": "markdown",
   "metadata": {},
   "source": [
    "## Conclusão"
   ]
  },
  {
   "attachments": {},
   "cell_type": "markdown",
   "metadata": {},
   "source": [
    "Teoricamente, temos:\n",
    "\n",
    "A partir das técnicas de predição, como regressão linear e árvore de decisão, é possível concluir que existem variáveis e características nas escolas que estão correlacionadas com o desempenho médio em matemática no ENEM. Dentre as conclusões obtidas, podemos destacar as seguintes tendências:\n",
    "\n",
    "Primeiramente, as variáveis socioeconômicas exercem influência significativa no desempenho dos alunos. Escolas com perfil socioeconômico inferior tendem a apresentar médias em matemática mais baixas, indicando que o contexto socioeconômico dos estudantes pode impactar seu desempenho acadêmico.\n",
    "\n",
    "Além disso, a localização das escolas também desempenha um papel importante. Escolas localizadas em áreas rurais têm médias em matemática inferiores em comparação com as escolas situadas em áreas urbanas. Isso sugere que as escolas rurais enfrentam desafios adicionais, como a falta de recursos educacionais e infraestrutura adequada.\n",
    "\n",
    "O tipo de dependência administrativa também está relacionado ao desempenho em matemática. Escolas públicas ou municipais tendem a apresentar médias inferiores em relação a escolas privadas ou federais. Isso pode indicar diferenças na qualidade do ensino, recursos disponíveis e estrutura organizacional entre os diferentes tipos de escolas.\n",
    "\n",
    "Por fim, o porte da escola e a taxa de abandono são fatores que influenciam o desempenho em matemática. Escolas de menor porte e com taxas de abandono elevadas tendem a ter médias em matemática mais baixas. Esses fatores podem estar relacionados a limitações de recursos, menor diversidade de cursos oferecidos e problemas de engajamento dos estudantes.\n",
    "\n",
    "Essas conclusões destacam a importância de abordar as desigualdades socioeconômicas, melhorar o acesso a recursos educacionais, investir em infraestrutura e promover estratégias para reduzir a taxa de abandono escolar. Ao considerar esses aspectos, é possível direcionar esforços para melhorar o desempenho em matemática nas escolas, visando a igualdade de oportunidades e uma educação de qualidade para todos os alunos."
   ]
  },
  {
   "attachments": {},
   "cell_type": "markdown",
   "metadata": {},
   "source": [
    "Quanto à perfomance:\n",
    "\n",
    "As métricas de avaliação, como o RMSE e o R2 Score, são importantes para avaliar a qualidade dos modelos de predição e entender como eles se comportam em diferentes conjuntos de dados. É necessário considerar a interpretação dessas métricas em relação ao overfitting e underfitting.\n",
    "\n",
    "Overfitting ocorre quando um modelo se ajusta excessivamente aos dados de treinamento, capturando os detalhes e ruídos específicos do conjunto de treinamento, mas não generalizando bem para novos dados. Nesse caso, é possível que o modelo apresente desempenho muito bom no conjunto de treinamento, mas desempenho ruim no conjunto de teste. Isso pode levar a um RMSE e R2 Score baixos no conjunto de teste, indicando que o modelo não generaliza bem.\n",
    "\n",
    "Underfitting, por outro lado, ocorre quando um modelo é muito simples e não consegue capturar os padrões e complexidades dos dados. Isso resulta em um desempenho ruim tanto no conjunto de treinamento quanto no conjunto de teste, levando a valores de RMSE e R2 Score altos.\n",
    "\n",
    "Ao analisar os resultados apresentados, é importante considerar se há indícios de overfitting ou underfitting nos modelos de predição. Se os valores de RMSE e R2 Score forem bastante diferentes entre o conjunto de treinamento e o conjunto de teste, pode ser um sinal de overfitting. Por outro lado, se os valores forem consistentes entre os conjuntos, isso indica um melhor ajuste do modelo.\n",
    "\n",
    "No caso específico dos resultados apresentados (Regressão Linear e Árvore de Decisão), observa-se que os valores de RMSE e R2 Score não são muito discrepantes entre o conjunto de treinamento e o conjunto de teste. Isso sugere que os modelos não estão sofrendo de overfitting grave ou underfitting. No entanto, é importante notar que a Árvore de Decisão apresentou um desempenho melhor em ambas as métricas em relação à Regressão Linear.\n",
    "\n",
    "Para uma análise mais completa e conclusões mais robustas, seria necessário examinar outros aspectos dos modelos, como a complexidade, a capacidade de generalização, a consistência em diferentes conjuntos de dados e a análise de resíduos. Essas análises mais aprofundadas ajudam a refinar o senso crítico e fornecer uma discussão mais precisa sobre as medidas calculadas e o desempenho dos modelos."
   ]
  },
  {
   "attachments": {},
   "cell_type": "markdown",
   "metadata": {},
   "source": [
    "Quanto à comparação:\n",
    "\n",
    "Comparando os modelos, podemos observar que a Árvore de Decisão apresentou um desempenho melhor em ambas as métricas (RMSE e R2 Score) tanto no conjunto de treinamento quanto no conjunto de teste, em comparação com a Regressão Linear. Isso indica que a Árvore de Decisão foi capaz de fazer previsões mais precisas e explicar uma maior porcentagem da variabilidade dos dados.\n",
    "\n",
    "Portanto, com base nos resultados apresentados, podemos concluir que o modelo de Árvore de Decisão é melhor e mais preciso do que a Regressão Linear para esse conjunto de dados em particular. É importante ressaltar que essa conclusão é específica para os dados e métricas utilizadas, e outros conjuntos de dados podem ter resultados diferentes."
   ]
  },
  {
   "attachments": {},
   "cell_type": "markdown",
   "metadata": {},
   "source": [
    "## Referências"
   ]
  },
  {
   "attachments": {},
   "cell_type": "markdown",
   "metadata": {},
   "source": [
    "https://pandas.pydata.org/docs/reference/api/pandas.get_dummies.html\n",
    "\n",
    "https://www.alura.com.br/artigos/get-dummies-vs-onehotencoder-qual-metodo-escolher#:~:text=O%20método%20get_dummies()%20é,forma%20direta%20das%20variáveis%20categóricas.&text=Esses%20dados%20podem%20ser%20passados,learning%20para%20realizar%20uma%20previsão.\n",
    "\n",
    "https://statplace.com.br/blog/como-interpretar-um-boxplot/\n",
    "\n",
    "https://pypi.org/project/dythonhttps://analisemacro.com.br/mercado-financeiro/regressoes-lineares-em-r-e-python-2/\n",
    "\n",
    "https://www.hashtagtreinamentos.com/arvore-decisao-ciencia-dados\n",
    "\n",
    "https://sol.sbc.org.br/livros/index.php/sbc/catalog/download/33/133/319-1?inline=1\n",
    "\n",
    "https://pandas.pydata.org/docs/reference/api/pandas.crosstab.html\n",
    "\n",
    "https://gist.github.com/sanguedemonstro/53071059def69958a97098c41e2e0e51\n",
    "\n",
    "https://medium.com/data-hackers/implementando-regressão-linear-simples-em-python-91df53b920a8\n",
    "\n",
    "https://medium.com/@lamartine_sl/regressão-linear-com-sklearn-modelo-de-previsão-de-custos-com-plano-de-saúde-5e963e590f4c\n",
    "\n",
    "https://towardsdatascience.com/fit-vs-predict-vs-fit-predict-in-python-scikit-learn-f15a34a8d39f\n",
    "\n",
    "https://stackoverflow.com/questions/45704226/what-does-the-fit-method-in-scikit-learn-do\n",
    "\n",
    "https://didatica.tech/a-biblioteca-scikit-learn-pyhton-para-machine-learning/#:~:text=O%20scikit%2Dlearn%20é%20uma,aplicação%20prática%20de%20machine%20learning.\n",
    "\n",
    "https://blog.somostera.com/data-science/arvores-de-decisao\n",
    "\n",
    "http://carlosbaia.com/2016/12/24/decision-tree-e-random-forest/"
   ]
  }
 ],
 "metadata": {
  "kernelspec": {
   "display_name": "Python 3",
   "language": "python",
   "name": "python3"
  },
  "language_info": {
   "codemirror_mode": {
    "name": "ipython",
    "version": 3
   },
   "file_extension": ".py",
   "mimetype": "text/x-python",
   "name": "python",
   "nbconvert_exporter": "python",
   "pygments_lexer": "ipython3",
   "version": "3.9.12"
  },
  "orig_nbformat": 4
 },
 "nbformat": 4,
 "nbformat_minor": 2
}
